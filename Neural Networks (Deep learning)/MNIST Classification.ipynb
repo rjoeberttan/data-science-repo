{
 "cells": [
  {
   "cell_type": "code",
   "execution_count": 2,
   "id": "f229327b",
   "metadata": {},
   "outputs": [],
   "source": [
    "# Each image is a 28x28 (784) pixel, so we can treat it as 28x28 matrix\n",
    "# with input values from 0 to 255\n",
    "# Approach for neural networks is to \"flatten\" each image into \n",
    "# a vector of 784x1 with each entry as an input so we will have 784 inputs\n",
    "\n",
    "# we will be having two hidden layers and 10 outputs as we will be having\n",
    "# number from 0 to 9 and be shown as a one hot vector \n",
    "# 0 - 1 0 0 0 0 0 0 0 0 0\n",
    "# 5 - 0 0 0 0 1 0 0 0 0 0\n",
    "\n",
    "# We will be using softmax activation function for the output layer\n",
    "# because it will be a multinomial probability\n",
    "\n",
    "# 1. Prepare the data and preprocess. Divide datasets to training, validation and test\n",
    "# 2. Outline the model and choose activation functions\n",
    "# 3. Set appropriate advanced optimizers and the loss function\n",
    "# 4. Make it learn\n",
    "# 5. Test the accuracy of the model"
   ]
  },
  {
   "cell_type": "code",
   "execution_count": 4,
   "id": "11ba7bbb",
   "metadata": {},
   "outputs": [],
   "source": [
    "# Import the packages\n",
    "import numpy as np\n",
    "import tensorflow as tf\n",
    "\n",
    "# Tensorflow dataset provider\n",
    "import tensorflow_datasets as tfds"
   ]
  },
  {
   "cell_type": "code",
   "execution_count": 11,
   "id": "36a8ef48",
   "metadata": {},
   "outputs": [
    {
     "name": "stderr",
     "output_type": "stream",
     "text": [
      "WARNING:absl:Warning: Setting shuffle_files=True because split=TRAIN and shuffle_files=None. This behavior will be deprecated on 2019-08-06, at which point shuffle_files=False will be the default for all splits.\n"
     ]
    }
   ],
   "source": [
    "# Load the data\n",
    "# default path is c:/users/uname/tensorflow_datasets\n",
    "# as_supervised=True loads the data in a 2-tuple struct[input,target]\n",
    "mnist_dataset, mnist_info = tfds.load(name='mnist', with_info=True, as_supervised=True)\n",
    "\n",
    "# Extract the training set and testing set\n",
    "# mnist already has train and test\n",
    "mnist_train, mnist_test = mnist_dataset['train'], mnist_dataset['test']\n",
    "\n",
    "# However, we split somefor our validation from train\n",
    "num_validation_samples = 0.1 * mnist_info.splits['train'].num_examples # from with_info\n",
    "num_validation_samples = tf.cast(num_validation_samples, tf.int64) # Cast to int\n",
    "\n",
    "num_test_samples = mnist_info.splits['test'].num_examples\n",
    "num_test_samples = tf.cast(num_test_samples, tf.int64) \n",
    "\n",
    "# Scale our data to make it numerically stable\n",
    "# to make inputs between 0 and 1\n",
    "def scale(image, label):\n",
    "    image = tf.cast(image,tf.float32)\n",
    "    image /= 255. # divide by 255 as each pixel will max of 255 and add (.) to indicate that we want a float as output\n",
    "    return image, label\n",
    "\n",
    "# data.map(function) applies transformation to a dataset\n",
    "# just remember that the custom function should have (input, label)\n",
    "# as arguments\n",
    "scaled_train_and_validation_data = mnist_train.map(scale)\n",
    "test_data = mnist_test.map(scale)\n",
    "\n",
    "\n",
    "# Normal practice is shuffling and then batching\n",
    "\n",
    "# Set buffer size as we can shuffle the data at once, dataset too big, like a batch\n",
    "BUFFER_SIZE = 10000\n",
    "shuffled_train_and_validation_data = scaled_train_and_validation_data.shuffle(BUFFER_SIZE)\n",
    "\n",
    "# Extract validation and test samples \n",
    "validation_data = shuffled_train_and_validation_data.take(num_validation_samples)\n",
    "train_data = shuffled_train_and_validation_data.skip(num_validation_samples)\n",
    "\n",
    "\n",
    "# Batch size. \n",
    "# Apply on batch size on training \n",
    "# Not applied on validation data as we only forward propagate the validation\n",
    "BATCH_SIZE = 100\n",
    "train_data = train_data.batch(BATCH_SIZE)\n",
    "\n",
    "# Since we find the model expect the validation set in batch form too\n",
    "validation_data = validation_data.batch(num_validation_samples)\n",
    "test_data = test_data.batch(num_test_samples)\n",
    "\n",
    "# Validation data must have the same shape as train and test\n",
    "# mnist data is iterable and in 2-tuple format due to as_supervised=True\n",
    "# divided to input and target or (image,label) \n",
    "validation_inputs, validation_targets = next(iter(validation_data)) #Iter goes to iteration and next will load the iter\n"
   ]
  },
  {
   "cell_type": "code",
   "execution_count": 17,
   "id": "3c8254c3",
   "metadata": {},
   "outputs": [],
   "source": [
    "# Outline the model\n",
    "# 784 Inputs -> Hidden Layer (50 nodes) -> Hidden Layer (50n) -> Output 10\n",
    "# Width and Depth\n",
    "\n",
    "# Hyperparameters\n",
    "input_size = 784\n",
    "output_size = 10\n",
    "hidden_layer_size = 100 # assumed all hidden layer is same size\n",
    "\n",
    "model = tf.keras.Sequential([\n",
    "    # Input layer, each data is 28x28x1, we have to flatten because we dont use CNN, preprocess argument\n",
    "    tf.keras.layers.Flatten(input_shape=(28,28,1)),\n",
    "    # Builds the layers dense(out_size_of_first, activation, )\n",
    "    tf.keras.layers.Dense(hidden_layer_size, activation='relu'),\n",
    "    tf.keras.layers.Dense(hidden_layer_size, activation='relu'),\n",
    "    tf.keras.layers.Dense(output_size, activation='softmax'),\n",
    "])"
   ]
  },
  {
   "cell_type": "code",
   "execution_count": 18,
   "id": "b1611f52",
   "metadata": {},
   "outputs": [],
   "source": [
    "# Choose optimizer and loss function\n",
    "\n",
    "# For loss\n",
    "# Binary_crossentropy is for binary data\n",
    "# categorical is for one hot encoded targets\n",
    "# sparse categorical does the one hot encoding\n",
    "model.compile(optimizer='adam', loss='sparse_categorical_crossentropy', metrics=['accuracy'])"
   ]
  },
  {
   "cell_type": "code",
   "execution_count": 19,
   "id": "39adcf39",
   "metadata": {},
   "outputs": [
    {
     "name": "stdout",
     "output_type": "stream",
     "text": [
      "Epoch 1/5\n",
      "540/540 - 3s - loss: 0.3225 - accuracy: 0.9095 - val_loss: 0.1806 - val_accuracy: 0.9502\n",
      "Epoch 2/5\n",
      "540/540 - 2s - loss: 0.1348 - accuracy: 0.9602 - val_loss: 0.1309 - val_accuracy: 0.9630\n",
      "Epoch 3/5\n",
      "540/540 - 2s - loss: 0.0974 - accuracy: 0.9711 - val_loss: 0.0936 - val_accuracy: 0.9708\n",
      "Epoch 4/5\n",
      "540/540 - 2s - loss: 0.0762 - accuracy: 0.9762 - val_loss: 0.0754 - val_accuracy: 0.9778\n",
      "Epoch 5/5\n",
      "540/540 - 2s - loss: 0.0608 - accuracy: 0.9807 - val_loss: 0.0607 - val_accuracy: 0.9815\n"
     ]
    },
    {
     "data": {
      "text/plain": [
       "<tensorflow.python.keras.callbacks.History at 0x19e92745670>"
      ]
     },
     "execution_count": 19,
     "metadata": {},
     "output_type": "execute_result"
    }
   ],
   "source": [
    "# Training the model\n",
    "NUM_EPOCHS = 5\n",
    "\n",
    "model.fit(train_data, epochs= NUM_EPOCHS, validation_data=(validation_inputs, validation_targets), verbose=2)"
   ]
  },
  {
   "cell_type": "code",
   "execution_count": 21,
   "id": "aebbe551",
   "metadata": {},
   "outputs": [],
   "source": [
    "# Epoch\n",
    "# Batch Size\n",
    "# Time it finished\n",
    "# Training_loss should almost be decreasing\n",
    "# accuracy - what % is output is equal to target (among batches) should be same trend as training loss\n",
    "# val_loss = \n",
    "# val_acc = true accuracy for the epoch, check last (96.72%) increased hidden layer size to 100 then acc goes to 98.15%\n",
    "\n",
    "\n",
    "# Models should have val_accuracy of at least 97%"
   ]
  },
  {
   "cell_type": "code",
   "execution_count": 24,
   "id": "37d3d97d",
   "metadata": {},
   "outputs": [
    {
     "name": "stdout",
     "output_type": "stream",
     "text": [
      "1/1 [==============================] - 1s 680ms/step - loss: 0.0887 - accuracy: 0.9725\n",
      "Test loss: 0.09. Test Accuracy: 97.25%\n"
     ]
    }
   ],
   "source": [
    "# Testing the model\n",
    "test_loss, test_acc = model.evaluate(test_data)\n",
    "print('Test loss: {0:.2f}. Test Accuracy: {1:.2f}%'.format(test_loss,test_acc*100))\n",
    "\n",
    "# Test accuracy should be close to validation accuracy"
   ]
  },
  {
   "cell_type": "code",
   "execution_count": null,
   "id": "bd992a42",
   "metadata": {},
   "outputs": [],
   "source": []
  }
 ],
 "metadata": {
  "kernelspec": {
   "display_name": "Python 3",
   "language": "python",
   "name": "python3"
  },
  "language_info": {
   "codemirror_mode": {
    "name": "ipython",
    "version": 3
   },
   "file_extension": ".py",
   "mimetype": "text/x-python",
   "name": "python",
   "nbconvert_exporter": "python",
   "pygments_lexer": "ipython3",
   "version": "3.8.10"
  }
 },
 "nbformat": 4,
 "nbformat_minor": 5
}
