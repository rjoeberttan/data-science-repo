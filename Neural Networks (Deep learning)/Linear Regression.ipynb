{
 "cells": [
  {
   "cell_type": "markdown",
   "id": "0c7bfb53",
   "metadata": {},
   "source": [
    "## Simple Linear Regression (Simple example)"
   ]
  },
  {
   "cell_type": "markdown",
   "id": "03a14900",
   "metadata": {},
   "source": [
    "Fully personal and random datasets"
   ]
  },
  {
   "cell_type": "markdown",
   "id": "f0550fd6",
   "metadata": {},
   "source": [
    "### Step 1: Import Relevant Libraries"
   ]
  },
  {
   "cell_type": "code",
   "execution_count": 2,
   "id": "5c3b273d",
   "metadata": {},
   "outputs": [],
   "source": [
    "import numpy as np\n",
    "import matplotlib.pyplot as plt\n",
    "from mpl_toolkits.mplot3d import Axes3D # 3D Graphs\n",
    "import seaborn as sns\n",
    "sns.set()"
   ]
  },
  {
   "cell_type": "markdown",
   "id": "9eed84b1",
   "metadata": {},
   "source": [
    "### Step 2: Generate random data to train on"
   ]
  },
  {
   "cell_type": "code",
   "execution_count": 3,
   "id": "c16a39c9",
   "metadata": {},
   "outputs": [
    {
     "data": {
      "text/plain": [
       "(1000, 2)"
      ]
     },
     "execution_count": 3,
     "metadata": {},
     "output_type": "execute_result"
    }
   ],
   "source": [
    "observations = 1000 # number of observations\n",
    "\n",
    "# Size is the shape of the dataset. \n",
    "# Appropriate size is the no of observations by the number of variables\n",
    "xs = np.random.uniform(low=-10,high=10, size=(observations,1))\n",
    "zs = np.random.uniform(-10,10,(observations,1))\n",
    "\n",
    " # Combines x and z as a 1000x2 matrix\n",
    "inputs = np.column_stack((xs,zs))\n",
    "inputs.shape\n"
   ]
  },
  {
   "cell_type": "markdown",
   "id": "72d3ea1c",
   "metadata": {},
   "source": [
    "### Step 3: Generate a sample target we will aim at"
   ]
  },
  {
   "cell_type": "code",
   "execution_count": 4,
   "id": "84c5b2fe",
   "metadata": {},
   "outputs": [
    {
     "data": {
      "text/plain": [
       "(1000, 1)"
      ]
     },
     "execution_count": 4,
     "metadata": {},
     "output_type": "execute_result"
    }
   ],
   "source": [
    "# Create target\n",
    "# Lets set target = f(x,z) = 2x - 3z + 5 + noise\n",
    "# Weights are 2 and 3, Bias is 5\n",
    "# Our model has to learn this target\n",
    "# Our final weights and bias should be 2, 3, and 5\n",
    "\n",
    "noise = np.random.uniform(-1,1,(observations,1))\n",
    "targets = 2*xs - 3*zs + 5 + noise\n",
    "targets.shape"
   ]
  },
  {
   "cell_type": "markdown",
   "id": "de0ed155",
   "metadata": {},
   "source": [
    "### Optional Step: Visualize the datapoints"
   ]
  },
  {
   "cell_type": "code",
   "execution_count": 8,
   "id": "98a4db5d",
   "metadata": {},
   "outputs": [
    {
     "data": {
      "text/plain": [
       "<function matplotlib.pyplot.show(close=None, block=None)>"
      ]
     },
     "execution_count": 8,
     "metadata": {},
     "output_type": "execute_result"
    },
    {
     "data": {
      "image/png": "[encoded data removed]",
      "text/plain": [
       "<Figure size 432x288 with 1 Axes>"
      ]
     },
     "metadata": {},
     "output_type": "display_data"
    }
   ],
   "source": [
    "# Plot the data just so we can visualize it\n",
    "\n",
    "# to use 3d plot we should reshape the target\n",
    "targets = targets.reshape(observations,)\n",
    "xs_copy = xs.reshape(observations,)\n",
    "zs_copy = zs.reshape(observations,)\n",
    "\n",
    "fig = plt.figure() # Declare the figure\n",
    "ax = fig.add_subplot(111,projection='3d')\n",
    "ax.plot(xs_copy,zs_copy,targets)\n",
    "ax.set_xlabel('xs')\n",
    "ax.set_ylabel('zs')\n",
    "ax.set_zlabel('Targets')\n",
    "\n",
    "ax.view_init(azim=100)\n",
    "plt.show"
   ]
  },
  {
   "cell_type": "markdown",
   "id": "5ed9ea1d",
   "metadata": {},
   "source": [
    "### Step 4: Build the model and Train"
   ]
  },
  {
   "cell_type": "code",
   "execution_count": 5,
   "id": "1271f6bd",
   "metadata": {},
   "outputs": [
    {
     "name": "stdout",
     "output_type": "stream",
     "text": [
      "[[-0.03035066]\n",
      " [ 0.06641226]]\n",
      "[0.09400311]\n",
      "234.97711910331086\n",
      "38.82004281428746\n",
      "14.541543982820725\n",
      "11.175001834615438\n",
      "10.392717962417331\n",
      "9.945039667815326\n",
      "9.552937706760346\n",
      "9.181090710495965\n",
      "8.824547851804896\n",
      "8.48218183868621\n",
      "8.153366101476692\n",
      "7.837556389271511\n",
      "7.534237252100483\n",
      "7.242914547957323\n",
      "6.963113795303474\n",
      "6.694379293414328\n",
      "6.436273366628682\n",
      "6.188375649802095\n",
      "5.950282403458447\n",
      "5.721605856210338\n",
      "5.5019735732103525\n",
      "5.291027849583312\n",
      "5.088425127848914\n",
      "4.893835438385662\n",
      "4.706941862024708\n",
      "4.527440013898355\n",
      "4.355037547702577\n",
      "4.189453679566228\n",
      "4.030418730751393\n",
      "3.8776736884402045\n",
      "3.7309697838927143\n",
      "3.5900680872888215\n",
      "3.4547391185944156\n",
      "3.3247624738179002\n",
      "3.1999264660485025\n",
      "3.0800277806916267\n",
      "2.9648711443398574\n",
      "2.85426900674025\n",
      "2.7480412353399553\n",
      "2.64601482191272\n",
      "2.5480236007884507\n",
      "2.4539079782269044\n",
      "2.3635146724948104\n",
      "2.2766964642230394\n",
      "2.1933119566372694\n",
      "2.113225345271641\n",
      "2.0363061967903517\n",
      "1.9624292365569467\n",
      "1.8914741446053553\n",
      "1.8233253596803565\n",
      "1.7578718910283537\n",
      "1.6950071376318865\n",
      "1.6346287145935272\n",
      "1.576638286386362\n",
      "1.5209414066994915\n",
      "1.467447364617726\n",
      "1.4160690368849371\n",
      "1.366722746010471\n",
      "1.3193281239875065\n",
      "1.2738079814014311\n",
      "1.2300881817150309\n",
      "1.1880975205257651\n",
      "1.1477676095984717\n",
      "1.1090327654846264\n",
      "1.0718299025467741\n",
      "1.0360984302138863\n",
      "1.0017801543003149\n",
      "0.9688191822276393\n",
      "0.9371618319950132\n",
      "0.9067565447498018\n",
      "0.8775538008160709\n",
      "0.8495060390441986\n",
      "0.8225675793502419\n",
      "0.7966945483189153\n",
      "0.771844807748999\n",
      "0.7479778860248096\n",
      "0.7250549122019704\n",
      "0.7030385527001073\n",
      "0.6818929504993877\n",
      "0.6615836667418584\n",
      "0.6420776246424856\n",
      "0.6233430556185321\n",
      "0.6053494475495446\n",
      "0.5880674950836837\n",
      "0.5714690519094654\n",
      "0.5555270849151681\n",
      "0.5402156301612656\n",
      "0.5255097505941673\n",
      "0.5113854954323976\n",
      "0.4978198611590761\n",
      "0.48479075405715627\n",
      "0.4722769542264247\n",
      "0.46025808102362714\n",
      "0.44871455986947056\n",
      "0.43762759036841736\n",
      "0.4269791156893518\n",
      "0.4167517931572637\n",
      "0.40692896600803774\n",
      "0.3974946362603621\n",
      "0.38843343866055513\n"
     ]
    }
   ],
   "source": [
    "# Initialize the variables\n",
    "\n",
    "# our initial weights and biases will be picked randomly from [-0.1 to 0.1]\n",
    "init_range = 0.1 \n",
    "weights = np.random.uniform(low=-init_range, high=init_range, size=(2,1)) # size is 2x1 as we have two dependent variables\n",
    "biases = np.random.uniform(low=-init_range, high=init_range, size=1) # size is as many as our output\n",
    "\n",
    "# Set a learning\n",
    "learning_rate = 0.02\n",
    "\n",
    "# Train  the model\n",
    "for i in range(100):\n",
    "    # Calculate the output: y = xw + b\n",
    "    outputs = np.dot(inputs, weights) + biases\n",
    "   \n",
    "    # Compare outputs to target through the loss\n",
    "    deltas = outputs - targets\n",
    "    loss = np.sum(deltas ** 2) / 2 / observations # Mean Loss. Divided by constant does not as it makes the loss lower for higher accuracy\n",
    "    \n",
    "    # Print the loss \n",
    "    print(loss)\n",
    "    \n",
    "    # Adjust weights and biases\n",
    "    deltas_scaled = deltas / observations\n",
    "    weights = weights - learning_rate * np.dot(inputs.T,deltas_scaled)\n",
    "    biases = biases - learning_rate* np.sum(deltas_scaled)\n",
    "    \n",
    "    \n",
    "    "
   ]
  },
  {
   "cell_type": "code",
   "execution_count": 7,
   "id": "0d11af8e",
   "metadata": {},
   "outputs": [
    {
     "name": "stdout",
     "output_type": "stream",
     "text": [
      "[[ 2.00039425]\n",
      " [-2.99660834]] [4.35863437]\n"
     ]
    }
   ],
   "source": [
    "# As observed, we can see that the weights we have is 2 and -2 and 4(accounting the 5+noise for the bias)\n",
    "print(weights, biases)"
   ]
  },
  {
   "cell_type": "markdown",
   "id": "f5a4e4ba",
   "metadata": {},
   "source": [
    "### Step 5: Plot last outputs vs targets"
   ]
  },
  {
   "cell_type": "code",
   "execution_count": 10,
   "id": "b3f5c5a8",
   "metadata": {
    "scrolled": true
   },
   "outputs": [
    {
     "data": {
      "image/png": "[encoded data removed]",
      "text/plain": [
       "<Figure size 432x288 with 1 Axes>"
      ]
     },
     "metadata": {},
     "output_type": "display_data"
    }
   ],
   "source": [
    "plt.plot(outputs,targets)\n",
    "plt.xlabel('outputs')\n",
    "plt.ylabel('targets')\n",
    "plt.show()\n",
    "\n",
    "# It should show an almost 45 degree line to say that are model is accurate"
   ]
  },
  {
   "cell_type": "code",
   "execution_count": null,
   "id": "7584868a",
   "metadata": {},
   "outputs": [],
   "source": []
  }
 ],
 "metadata": {
  "kernelspec": {
   "display_name": "Python 3",
   "language": "python",
   "name": "python3"
  },
  "language_info": {
   "codemirror_mode": {
    "name": "ipython",
    "version": 3
   },
   "file_extension": ".py",
   "mimetype": "text/x-python",
   "name": "python",
   "nbconvert_exporter": "python",
   "pygments_lexer": "ipython3",
   "version": "3.8.8"
  }
 },
 "nbformat": 4,
 "nbformat_minor": 5
}
