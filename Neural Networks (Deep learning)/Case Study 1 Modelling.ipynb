{
 "cells": [
  {
   "cell_type": "code",
   "execution_count": 1,
   "id": "63d7a47b",
   "metadata": {},
   "outputs": [],
   "source": [
    "# Import relevant libraries\n",
    "import numpy as np\n",
    "import tensorflow as tf"
   ]
  },
  {
   "cell_type": "code",
   "execution_count": 2,
   "id": "e043cd57",
   "metadata": {},
   "outputs": [],
   "source": [
    "# Load the training data\n",
    "npz = np.load('audiobooks_data_train.npz')\n",
    "train_inputs = npz['inputs'].astype(np.float)\n",
    "train_targets = npz['targets'].astype(np.int)\n",
    "\n",
    "# Load the validation data\n",
    "npz = np.load('audiobooks_data_validation.npz')\n",
    "validation_inputs = npz['inputs'].astype(np.float)\n",
    "validation_targets = npz['targets'].astype(np.int)\n",
    "\n",
    "# Load the testing data\n",
    "npz = np.load('audiobooks_data_test.npz')\n",
    "test_inputs = npz['inputs'].astype(np.float)\n",
    "test_targets = npz['targets'].astype(np.int)\n",
    "\n"
   ]
  },
  {
   "cell_type": "code",
   "execution_count": 13,
   "id": "629113f5",
   "metadata": {},
   "outputs": [
    {
     "name": "stdout",
     "output_type": "stream",
     "text": [
      "Epoch 1/100\n",
      "36/36 - 1s - loss: 0.5824 - accuracy: 0.6826 - val_loss: 0.4205 - val_accuracy: 0.7606\n",
      "Epoch 2/100\n",
      "36/36 - 0s - loss: 0.4100 - accuracy: 0.7712 - val_loss: 0.4109 - val_accuracy: 0.7696\n",
      "Epoch 3/100\n",
      "36/36 - 0s - loss: 0.3828 - accuracy: 0.7854 - val_loss: 0.3263 - val_accuracy: 0.8143\n",
      "Epoch 4/100\n",
      "36/36 - 0s - loss: 0.3630 - accuracy: 0.7974 - val_loss: 0.3442 - val_accuracy: 0.8009\n",
      "Epoch 5/100\n",
      "36/36 - 0s - loss: 0.3582 - accuracy: 0.8086 - val_loss: 0.3229 - val_accuracy: 0.8322\n",
      "Epoch 6/100\n",
      "36/36 - 0s - loss: 0.3523 - accuracy: 0.8061 - val_loss: 0.3205 - val_accuracy: 0.8188\n",
      "Epoch 7/100\n",
      "36/36 - 0s - loss: 0.3346 - accuracy: 0.8142 - val_loss: 0.3094 - val_accuracy: 0.8367\n",
      "Epoch 8/100\n",
      "36/36 - 0s - loss: 0.3318 - accuracy: 0.8195 - val_loss: 0.3205 - val_accuracy: 0.8143\n",
      "Epoch 9/100\n",
      "36/36 - 0s - loss: 0.3287 - accuracy: 0.8201 - val_loss: 0.3220 - val_accuracy: 0.8098\n"
     ]
    },
    {
     "data": {
      "text/plain": [
       "<tensorflow.python.keras.callbacks.History at 0x19f0f1a1280>"
      ]
     },
     "execution_count": 13,
     "metadata": {},
     "output_type": "execute_result"
    }
   ],
   "source": [
    "# Model\n",
    "# Hyperparameters\n",
    "input_size = 10 # 10 predictors\n",
    "output_size = 2 # 2 outputs\n",
    "hidden_layer_size = 50 # assumed all hidden layer is same size\n",
    "\n",
    "model = tf.keras.Sequential([\n",
    "    # Builds the layers dense(out_size_of_first, activation, )\n",
    "    tf.keras.layers.Dense(hidden_layer_size, activation='relu'),\n",
    "    tf.keras.layers.Dense(hidden_layer_size, activation='relu'),\n",
    "    tf.keras.layers.Dense(hidden_layer_size, activation='relu'),\n",
    "    tf.keras.layers.Dense(hidden_layer_size, activation='relu'),\n",
    "    tf.keras.layers.Dense(hidden_layer_size, activation='relu'),\n",
    "    tf.keras.layers.Dense(hidden_layer_size, activation='relu'),\n",
    "    tf.keras.layers.Dense(hidden_layer_size, activation='relu'),\n",
    "    tf.keras.layers.Dense(hidden_layer_size, activation='relu'),\n",
    "    tf.keras.layers.Dense(output_size, activation='softmax'),\n",
    "])\n",
    "\n",
    "model.compile(optimizer='adam', loss='sparse_categorical_crossentropy', metrics=['accuracy'])\n",
    "\n",
    "batch_size = 100\n",
    "max_epochs = 100\n",
    "\n",
    "# early stopping to avoid overfitting\n",
    "# will monitor validation loss and stop the training the first time the validation loss start increasing\n",
    "early_stopping = tf.keras.callbacks.EarlyStopping(patience=2, monitor='val_loss')\n",
    "\n",
    "\n",
    "# We can feed a 2-tuple object or two simple arrays\n",
    "model.fit(train_inputs,\n",
    "          train_targets,\n",
    "          batch_size = batch_size,\n",
    "          epochs = max_epochs,\n",
    "          callbacks=[early_stopping],\n",
    "          validation_data = (validation_inputs, validation_targets),\n",
    "          verbose = 2)\n",
    "                          "
   ]
  },
  {
   "cell_type": "code",
   "execution_count": 14,
   "id": "1002af93",
   "metadata": {},
   "outputs": [
    {
     "name": "stdout",
     "output_type": "stream",
     "text": [
      "14/14 [==============================] - 0s 846us/step - loss: 0.3539 - accuracy: 0.8170\n"
     ]
    }
   ],
   "source": [
    "# Test\n",
    "test_loss, test_accuracy = model.evaluate(test_inputs, test_targets)"
   ]
  },
  {
   "cell_type": "code",
   "execution_count": null,
   "id": "8d6d8f48",
   "metadata": {},
   "outputs": [],
   "source": []
  }
 ],
 "metadata": {
  "kernelspec": {
   "display_name": "Python 3",
   "language": "python",
   "name": "python3"
  },
  "language_info": {
   "codemirror_mode": {
    "name": "ipython",
    "version": 3
   },
   "file_extension": ".py",
   "mimetype": "text/x-python",
   "name": "python",
   "nbconvert_exporter": "python",
   "pygments_lexer": "ipython3",
   "version": "3.8.10"
  }
 },
 "nbformat": 4,
 "nbformat_minor": 5
}
